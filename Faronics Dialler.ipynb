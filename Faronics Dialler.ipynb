{
 "cells": [
  {
   "cell_type": "code",
   "execution_count": 16,
   "metadata": {},
   "outputs": [],
   "source": [
    "from __future__ import print_function\n",
    "import datetime; import glob; import os; import re; import time; from datetime import datetime; from datetime import timedelta\n",
    "import pandas as pd; from selenium import webdriver\n",
    "from selenium.webdriver.common.by import By; from selenium.webdriver.common.desired_capabilities import DesiredCapabilities\n",
    "from selenium.webdriver.firefox.firefox_binary import FirefoxBinary;from selenium.webdriver.firefox.options import Options\n",
    "from selenium.webdriver.support import expected_conditions as EC; from selenium.webdriver.support.ui import WebDriverWait; import win32api\n",
    "from selenium.webdriver.common.keys import Keys\n",
    "import google_sheet_common as gs\n",
    "import common\n",
    "from apiclient import discovery\n",
    "from bs4 import BeautifulSoup\n",
    "from dateutil.parser import parse\n",
    "from httplib2 import Http\n",
    "from oauth2client import file, client, tools\n",
    "import base64; import os; import sys"
   ]
  },
  {
   "cell_type": "code",
   "execution_count": 17,
   "metadata": {},
   "outputs": [],
   "source": [
    "from tkinter import *\n",
    "def getvalue(message):\n",
    "    root = Tk()\n",
    "    root.title('Faronics')\n",
    "    mystring = StringVar()\n",
    "    def close_window (root): \n",
    "        root.destroy()\n",
    "    def getvalue():\n",
    "        close_window(root)\n",
    "    Label(root, text=message).grid(row=0)  #label\n",
    "    Entry(root, textvariable = mystring).grid(row=0, column=1, sticky=E) #entry textbox\n",
    "    WSignUp = Button(root, text=\"Submit\", command=getvalue).grid(row=3, column=0, sticky=W) #button\n",
    "    \n",
    "    root.mainloop()\n",
    "    return mystring.get()\n",
    "\n",
    "# time.sleep(5)\n",
    "def getvcode(email,storagefile):\n",
    "    # Creating a storage.JSON file with authentication details\n",
    "    SCOPES = 'https://www.googleapis.com/auth/gmail.modify'\n",
    "    store = file.Storage(storagefile)\n",
    "    creds = store.get()\n",
    "\n",
    "    if not creds or creds.invalid:\n",
    "        flow = client.flow_from_clientsecrets('client_secret.json', SCOPES)\n",
    "        creds = tools.run_flow(flow, store)\n",
    "    GMAIL = discovery.build('gmail', 'v1', http=creds.authorize(Http()))\n",
    "\n",
    "    user_id = 'me'\n",
    "    vcode = GMAIL.users().messages().list(userId='me', labelIds=[\"UNREAD\"]).execute()\n",
    "    for mssg in vcode['messages']:\n",
    "        try:\n",
    "            temp_dict = {}\n",
    "            m_id = mssg['id']\n",
    "            message = GMAIL.users().messages().get(userId=user_id, id=m_id).execute()  # fetch the message using API\n",
    "            payld = message['payload']\n",
    "            headr = payld['headers']\n",
    "\n",
    "            for two in headr:\n",
    "                if two['name'] == 'Date':\n",
    "                    msg_date = two['value']\n",
    "                    date_parse = (parse(msg_date))\n",
    "                    m_date = (date_parse.date())\n",
    "                else:\n",
    "                    pass\n",
    "            diff = (datetime.now() - date_parse.replace(tzinfo=None)).total_seconds() / 60\n",
    "            temp_dict['Snippet'] = message['snippet']  # fetching message snippet\n",
    "            verificationcode = str(BeautifulSoup((base64.b64decode(bytes(payld['body']['data'], 'UTF-8'))), \"lxml\"))\n",
    "            verificationcode = (verificationcode.split(\"Code:\")[1].split(\"\\r\")[0]).strip()\n",
    "            break\n",
    "        except:\n",
    "            pass\n",
    "    print(verificationcode)\n",
    "    return verificationcode"
   ]
  },
  {
   "cell_type": "code",
   "execution_count": 18,
   "metadata": {},
   "outputs": [],
   "source": [
    "driver = webdriver.Firefox()\n",
    "wait = WebDriverWait(driver, 60)\n",
    "\n",
    "driver.get(url='https://faronicsna.my.salesforce.com/')"
   ]
  },
  {
   "cell_type": "code",
   "execution_count": 19,
   "metadata": {},
   "outputs": [],
   "source": [
    "usrdf = gs.getsheet('16iM4AVWs9LvRVtFdrZuUaphXH-QKH79kCIHWDcgM8Ws', 'control')"
   ]
  },
  {
   "cell_type": "code",
   "execution_count": 20,
   "metadata": {},
   "outputs": [],
   "source": [
    "uemail = getvalue(\"Please Enter Your Email ID :\")"
   ]
  },
  {
   "cell_type": "code",
   "execution_count": 21,
   "metadata": {},
   "outputs": [
    {
     "data": {
      "text/plain": [
       "'tgrewal@faronics.com'"
      ]
     },
     "execution_count": 21,
     "metadata": {},
     "output_type": "execute_result"
    }
   ],
   "source": [
    "uemail"
   ]
  },
  {
   "cell_type": "code",
   "execution_count": 22,
   "metadata": {},
   "outputs": [
    {
     "name": "stdout",
     "output_type": "stream",
     "text": [
      "68881\n"
     ]
    }
   ],
   "source": [
    "df1 = usrdf[usrdf['sfemail']==uemail].reset_index(drop=True)\n",
    "if df1.shape[0]>0:\n",
    "    email = df1['sfemail'].item()\n",
    "    password = df1['sfpassword'].item()\n",
    "    storagefile = df1['storage'].item()\n",
    "else:\n",
    "    print(\"Email id does not exists. Please contact administrator.\")\n",
    "    sys.exit()\n",
    "\n",
    "sfUserTb = driver.find_element_by_id('username')\n",
    "sfPwdTb = driver.find_element_by_id('password')\n",
    "loginBtn = driver.find_element_by_id('Login')\n",
    "\n",
    "sfUserTb.send_keys(email)\n",
    "sfPwdTb.send_keys(password)\n",
    "loginBtn.click()\n",
    "time.sleep(5)\n",
    "identity = driver.find_elements_by_id(\"emc\")\n",
    "if len(identity) > 0:\n",
    "    driver.find_element_by_id(\"emc\").send_keys(getvcode(email,storagefile))\n",
    "    driver.find_element_by_id(\"save\").click()\n",
    "    time.sleep(2)\n",
    "    wait.until(EC.visibility_of_element_located((By.ID,\"userNavLabel\")))\n",
    "    usrname = driver.find_element_by_id(\"userNavLabel\").text\n",
    "    win32api.MessageBox(0,'Welcome '+usrname+'!, Click on OK button to proceed with calling', 'Faronics', 0x00001000)"
   ]
  },
  {
   "cell_type": "code",
   "execution_count": 23,
   "metadata": {},
   "outputs": [],
   "source": [
    "usrname = driver.find_element_by_id(\"userNavLabel\").text"
   ]
  },
  {
   "cell_type": "code",
   "execution_count": 24,
   "metadata": {},
   "outputs": [],
   "source": [
    "rendatadf = gs.getsheet('16iM4AVWs9LvRVtFdrZuUaphXH-QKH79kCIHWDcgM8Ws', 'control')\n",
    "thisusr = rendatadf[rendatadf['username']==usrname].reset_index(drop=True)\n",
    "oppsdf = gs.getsheet(thisusr['sheetid'].item(), thisusr['sheetname'].item())\n",
    "oppsdf['tzno'] = ''\n",
    "oppsdf.loc[oppsdf['Timezone'] == 'Eastern', 'tzno'] = 1\n",
    "oppsdf.loc[oppsdf['Timezone'] == 'Central', 'tzno'] = 2\n",
    "oppsdf.loc[oppsdf['Timezone'] == 'Mountain', 'tzno'] = 3\n",
    "oppsdf.loc[oppsdf['Timezone'] == 'Pacific', 'tzno'] = 4\n",
    "oppsdf.loc[oppsdf['Timezone'] == 'Time Zone Not Found', 'tzno'] = 0\n",
    "oppsdf.loc[oppsdf['Timezone'] == 'Hawaii', 'tzno'] = 0\n",
    "oppsdf['tzno'] = pd.to_numeric(oppsdf['tzno'],downcast='signed')\n",
    "oppsdf.drop_duplicates('Account Name',inplace=True)"
   ]
  },
  {
   "cell_type": "code",
   "execution_count": 25,
   "metadata": {},
   "outputs": [],
   "source": [
    "donedf = gs.getsheet('16iM4AVWs9LvRVtFdrZuUaphXH-QKH79kCIHWDcgM8Ws', 'call_log')\n",
    "oppsdf['Done'] = oppsdf['SageCRMid'].apply(lambda x: donedf[donedf['SageCRMid']==(x)]['alertclosetime'].any())\n",
    "oppsdf.loc[oppsdf['Done']==False,'Done'] = 0\n",
    "oppsdf['Done'] = pd.to_datetime(oppsdf['Done'])\n",
    "oppsdf.sort_values(['Done','tzno'], ascending=[True,False], inplace=True)"
   ]
  },
  {
   "cell_type": "code",
   "execution_count": 26,
   "metadata": {},
   "outputs": [],
   "source": [
    "oppsdf.reset_index(drop=False,inplace=True)"
   ]
  },
  {
   "cell_type": "code",
   "execution_count": 27,
   "metadata": {},
   "outputs": [],
   "source": [
    "oppsdf.reset_index(drop=True,inplace=True)\n",
    "\n",
    "cdata = [[str(datetime.now()),\"Login\", \"\",  '', usrname]]\n",
    "gs.append_sheet('16iM4AVWs9LvRVtFdrZuUaphXH-QKH79kCIHWDcgM8Ws', 'call_log', cdata)"
   ]
  },
  {
   "cell_type": "code",
   "execution_count": 28,
   "metadata": {},
   "outputs": [
    {
     "name": "stdout",
     "output_type": "stream",
     "text": [
      "Starting loop / data refresh again\n",
      "Call to  Lane Council of Governments with Maintenance Amount 72.77 and licences covered \n",
      "1\n",
      "lane council of governments lane council of governments\n",
      "Found\n",
      "Activity found\n",
      "Call to  Options for Southern Oregon with Maintenance Amount 350 and licences covered \n",
      "1\n",
      "options for southern oregon options for southern oregon\n",
      "Found\n",
      "Activity found\n"
     ]
    },
    {
     "ename": "KeyboardInterrupt",
     "evalue": "",
     "output_type": "error",
     "traceback": [
      "\u001b[1;31m---------------------------------------------------------------------------\u001b[0m",
      "\u001b[1;31mKeyboardInterrupt\u001b[0m                         Traceback (most recent call last)",
      "\u001b[1;32m<ipython-input-28-4387b3426c60>\u001b[0m in \u001b[0;36m<module>\u001b[1;34m\u001b[0m\n\u001b[0;32m     40\u001b[0m     \u001b[0mstartcalling\u001b[0m\u001b[1;33m(\u001b[0m\u001b[1;33m)\u001b[0m\u001b[1;33m\u001b[0m\u001b[1;33m\u001b[0m\u001b[0m\n\u001b[0;32m     41\u001b[0m \u001b[1;33m\u001b[0m\u001b[0m\n\u001b[1;32m---> 42\u001b[1;33m \u001b[0mstartcalling\u001b[0m\u001b[1;33m(\u001b[0m\u001b[1;33m)\u001b[0m\u001b[1;33m\u001b[0m\u001b[1;33m\u001b[0m\u001b[0m\n\u001b[0m\u001b[0;32m     43\u001b[0m \u001b[0mcdata\u001b[0m \u001b[1;33m=\u001b[0m \u001b[1;33m[\u001b[0m\u001b[1;33m[\u001b[0m\u001b[0mstr\u001b[0m\u001b[1;33m(\u001b[0m\u001b[0mdatetime\u001b[0m\u001b[1;33m.\u001b[0m\u001b[0mnow\u001b[0m\u001b[1;33m(\u001b[0m\u001b[1;33m)\u001b[0m\u001b[1;33m)\u001b[0m\u001b[1;33m,\u001b[0m\u001b[1;34m\"Logout\"\u001b[0m\u001b[1;33m,\u001b[0m \u001b[1;34m\"\"\u001b[0m\u001b[1;33m,\u001b[0m  \u001b[1;34m''\u001b[0m\u001b[1;33m,\u001b[0m \u001b[1;34m''\u001b[0m\u001b[1;33m,\u001b[0m\u001b[1;34m\"Footprint\"\u001b[0m\u001b[1;33m]\u001b[0m\u001b[1;33m]\u001b[0m\u001b[1;33m\u001b[0m\u001b[1;33m\u001b[0m\u001b[0m\n\u001b[0;32m     44\u001b[0m \u001b[0mgs\u001b[0m\u001b[1;33m.\u001b[0m\u001b[0mappend_sheet\u001b[0m\u001b[1;33m(\u001b[0m\u001b[1;34m'16iM4AVWs9LvRVtFdrZuUaphXH-QKH79kCIHWDcgM8Ws'\u001b[0m\u001b[1;33m,\u001b[0m \u001b[1;34m'call_log'\u001b[0m\u001b[1;33m,\u001b[0m \u001b[0mcdata\u001b[0m\u001b[1;33m)\u001b[0m\u001b[1;33m\u001b[0m\u001b[1;33m\u001b[0m\u001b[0m\n",
      "\u001b[1;32m<ipython-input-28-4387b3426c60>\u001b[0m in \u001b[0;36mstartcalling\u001b[1;34m()\u001b[0m\n\u001b[0;32m     28\u001b[0m             \u001b[0mcallmsg\u001b[0m \u001b[1;33m=\u001b[0m \u001b[1;34m\"Account Details\\n\"\u001b[0m \u001b[1;33m+\u001b[0m \u001b[1;34m\"Account Name - \"\u001b[0m \u001b[1;33m+\u001b[0m \u001b[0moppsdf\u001b[0m\u001b[1;33m[\u001b[0m\u001b[1;34m'Account Name'\u001b[0m\u001b[1;33m]\u001b[0m\u001b[1;33m[\u001b[0m\u001b[0mi\u001b[0m\u001b[1;33m]\u001b[0m \u001b[1;33m+\u001b[0m \u001b[1;34m\"\\nSageCRMid - \"\u001b[0m \u001b[1;33m+\u001b[0m \u001b[0moppsdf\u001b[0m\u001b[1;33m[\u001b[0m\u001b[1;34m'SageCRMid'\u001b[0m\u001b[1;33m]\u001b[0m\u001b[1;33m[\u001b[0m\u001b[0mi\u001b[0m\u001b[1;33m]\u001b[0m \u001b[1;33m+\u001b[0m \u001b[1;34m\"\\nMaintenance Amount - \"\u001b[0m \u001b[1;33m+\u001b[0m \u001b[0mstr\u001b[0m\u001b[1;33m(\u001b[0m\u001b[0moppsdf\u001b[0m\u001b[1;33m[\u001b[0m\u001b[1;34m'Maintenance Amount'\u001b[0m\u001b[1;33m]\u001b[0m\u001b[1;33m[\u001b[0m\u001b[0mi\u001b[0m\u001b[1;33m]\u001b[0m\u001b[1;33m)\u001b[0m \u001b[1;33m+\u001b[0m \u001b[1;34m\"\\nlicences covered- \"\u001b[0m \u001b[1;33m+\u001b[0m \u001b[0mstr\u001b[0m\u001b[1;33m(\u001b[0m\u001b[0moppsdf\u001b[0m\u001b[1;33m[\u001b[0m\u001b[1;34m'Licenses Covered'\u001b[0m\u001b[1;33m]\u001b[0m\u001b[1;33m[\u001b[0m\u001b[0mi\u001b[0m\u001b[1;33m]\u001b[0m\u001b[1;33m)\u001b[0m \u001b[1;33m+\u001b[0m \u001b[1;34m'\\n\\nLast Activity \\nDate: '\u001b[0m\u001b[1;33m+\u001b[0m \u001b[0mstr\u001b[0m\u001b[1;33m(\u001b[0m\u001b[0mactdate\u001b[0m\u001b[1;33m)\u001b[0m \u001b[1;33m+\u001b[0m \u001b[1;34m\"\\nAssigned To: \"\u001b[0m \u001b[1;33m+\u001b[0m \u001b[0massignedto\u001b[0m \u001b[1;33m+\u001b[0m \u001b[1;34m\"\\nSubject: \"\u001b[0m \u001b[1;33m+\u001b[0m \u001b[0msubject\u001b[0m\u001b[1;33m\u001b[0m\u001b[1;33m\u001b[0m\u001b[0m\n\u001b[0;32m     29\u001b[0m \u001b[1;33m\u001b[0m\u001b[0m\n\u001b[1;32m---> 30\u001b[1;33m             \u001b[0mwin32api\u001b[0m\u001b[1;33m.\u001b[0m\u001b[0mMessageBox\u001b[0m\u001b[1;33m(\u001b[0m\u001b[1;36m0\u001b[0m\u001b[1;33m,\u001b[0m \u001b[0mcallmsg\u001b[0m\u001b[1;33m,\u001b[0m \u001b[1;34m'Faronics'\u001b[0m\u001b[1;33m,\u001b[0m \u001b[1;36m0x00001000\u001b[0m\u001b[1;33m)\u001b[0m\u001b[1;33m\u001b[0m\u001b[1;33m\u001b[0m\u001b[0m\n\u001b[0m\u001b[0;32m     31\u001b[0m             \u001b[0mmsgclose\u001b[0m \u001b[1;33m=\u001b[0m \u001b[0mdatetime\u001b[0m\u001b[1;33m.\u001b[0m\u001b[0mnow\u001b[0m\u001b[1;33m(\u001b[0m\u001b[1;33m)\u001b[0m\u001b[1;33m\u001b[0m\u001b[1;33m\u001b[0m\u001b[0m\n\u001b[0;32m     32\u001b[0m             \u001b[0mcdata\u001b[0m \u001b[1;33m=\u001b[0m \u001b[1;33m[\u001b[0m\u001b[1;33m[\u001b[0m\u001b[0mstr\u001b[0m\u001b[1;33m(\u001b[0m\u001b[0mdatetime\u001b[0m\u001b[1;33m.\u001b[0m\u001b[0mnow\u001b[0m\u001b[1;33m(\u001b[0m\u001b[1;33m)\u001b[0m\u001b[1;33m)\u001b[0m\u001b[1;33m,\u001b[0m \u001b[0moppsdf\u001b[0m\u001b[1;33m[\u001b[0m\u001b[1;34m'Account Name'\u001b[0m\u001b[1;33m]\u001b[0m\u001b[1;33m[\u001b[0m\u001b[0mi\u001b[0m\u001b[1;33m]\u001b[0m\u001b[1;33m,\u001b[0m \u001b[0moppsdf\u001b[0m\u001b[1;33m[\u001b[0m\u001b[1;34m'Maintenance Amount'\u001b[0m\u001b[1;33m]\u001b[0m\u001b[1;33m[\u001b[0m\u001b[0mi\u001b[0m\u001b[1;33m]\u001b[0m\u001b[1;33m,\u001b[0m \u001b[0mstr\u001b[0m\u001b[1;33m(\u001b[0m\u001b[0mmsgclose\u001b[0m\u001b[1;33m)\u001b[0m\u001b[1;33m,\u001b[0m \u001b[0musrname\u001b[0m\u001b[1;33m,\u001b[0m \u001b[0moppsdf\u001b[0m\u001b[1;33m[\u001b[0m\u001b[1;34m'Opportunity'\u001b[0m\u001b[1;33m]\u001b[0m\u001b[1;33m[\u001b[0m\u001b[0mi\u001b[0m\u001b[1;33m]\u001b[0m\u001b[1;33m,\u001b[0m\u001b[0moppsdf\u001b[0m\u001b[1;33m[\u001b[0m\u001b[1;34m'Maintenance End'\u001b[0m\u001b[1;33m]\u001b[0m\u001b[1;33m[\u001b[0m\u001b[0mi\u001b[0m\u001b[1;33m]\u001b[0m\u001b[1;33m,\u001b[0m\u001b[0moppsdf\u001b[0m\u001b[1;33m[\u001b[0m\u001b[1;34m'Licenses Covered'\u001b[0m\u001b[1;33m]\u001b[0m\u001b[1;33m[\u001b[0m\u001b[0mi\u001b[0m\u001b[1;33m]\u001b[0m\u001b[1;33m,\u001b[0m \u001b[0moppsdf\u001b[0m\u001b[1;33m[\u001b[0m\u001b[1;34m'SageCRMid'\u001b[0m\u001b[1;33m]\u001b[0m\u001b[1;33m[\u001b[0m\u001b[0mi\u001b[0m\u001b[1;33m]\u001b[0m\u001b[1;33m]\u001b[0m\u001b[1;33m]\u001b[0m\u001b[1;33m\u001b[0m\u001b[1;33m\u001b[0m\u001b[0m\n",
      "\u001b[1;31mKeyboardInterrupt\u001b[0m: "
     ]
    }
   ],
   "source": [
    "def startcalling():\n",
    "    print(\"Starting loop / data refresh again\")\n",
    "    if oppsdf.shape[0] == 0:\n",
    "        win32api.MessageBox(0,'Opps not available. Please reset the report filter / ', 'Faronics', 0x00001000)\n",
    "    for i in range(oppsdf.shape[0]):\n",
    "        dial = common.gettimenow(oppsdf['Timezone'][i])\n",
    "        if dial :\n",
    "            print(\"Call to \",oppsdf['Account Name'][i], \"with Maintenance Amount\", oppsdf['Maintenance Amount'][i], 'and licences covered',oppsdf['Licenses Covered'][i])\n",
    "            driver.find_element_by_id(\"phSearchInput\").send_keys(oppsdf['Account Name'][i]+Keys.ENTER)\n",
    "            time.sleep(3)\n",
    "            aclist = driver.find_elements_by_xpath(\"//div[@id='Account_body']/table//tr[contains(@class,'dataRow')]\")\n",
    "            print(len(aclist))\n",
    "            for j in range(len(aclist)):\n",
    "                acname = driver.find_element_by_xpath(\"//div[@id='Account_body']/table//tr[contains(@class,'dataRow')]/th\").text\n",
    "                print(acname.lower() , oppsdf['Account Name'][i].lower())\n",
    "                if acname.lower() == oppsdf['Account Name'][i].lower():\n",
    "                    print(\"Found\")\n",
    "                    driver.find_element_by_xpath(\"//div[@id='Account_body']/table//tr[contains(@class,'dataRow')][\"+str(j+1)+\"]/th/a\").click()\n",
    "                    break\n",
    "\n",
    "            activityhistory = len(driver.find_elements_by_xpath(\"//div[contains(@id,'RelatedHistoryList_body')]/table//tr[contains(@class,'dataRow')]\"))\n",
    "            if activityhistory > 0:\n",
    "                print(\"Activity found\")\n",
    "                actdate = pd.to_datetime(driver.find_element_by_xpath(\"//div[contains(@id,'RelatedHistoryList_body')]/table//tr[contains(@class,'dataRow')][1]/td[7]\").text)\n",
    "                assignedto = driver.find_element_by_xpath(\"//div[contains(@id,'RelatedHistoryList_body')]/table//tr[contains(@class,'dataRow')][1]/td[6]\").text\n",
    "                subject = driver.find_element_by_xpath(\"//div[contains(@id,'RelatedHistoryList_body')]/table//tr[contains(@class,'dataRow')][1]/th\").text\n",
    "            \n",
    "            callmsg = \"Account Details\\n\" + \"Account Name - \" + oppsdf['Account Name'][i] + \"\\nSageCRMid - \" + oppsdf['SageCRMid'][i] + \"\\nMaintenance Amount - \" + str(oppsdf['Maintenance Amount'][i]) + \"\\nlicences covered- \" + str(oppsdf['Licenses Covered'][i]) + '\\n\\nLast Activity \\nDate: '+ str(actdate) + \"\\nAssigned To: \" + assignedto + \"\\nSubject: \" + subject\n",
    "            \n",
    "            win32api.MessageBox(0, callmsg, 'Faronics', 0x00001000)\n",
    "            msgclose = datetime.now()\n",
    "            cdata = [[str(datetime.now()), oppsdf['Account Name'][i], oppsdf['Maintenance Amount'][i], str(msgclose), usrname, oppsdf['Opportunity'][i],oppsdf['Maintenance End'][i],oppsdf['Licenses Covered'][i], oppsdf['SageCRMid'][i]]]\n",
    "            gs.append_sheet('16iM4AVWs9LvRVtFdrZuUaphXH-QKH79kCIHWDcgM8Ws', 'call_log', cdata)\n",
    "            \n",
    "#             nextcallmsg = \"Next account is \\n\" + oppsdf['Account Name'][i+1] + \"\\nMaintenance Amount - \" + str(oppsdf['Maintenance Amount'][i+1]) + '\\nlicences covered- ' + str(oppsdf['Licenses Covered'][i+1])\n",
    "#             win32api.MessageBox(0,nextcallmsg, 'Faronics', 0x00001000)\n",
    "#             msgclose = datetime.now()\n",
    "        else:\n",
    "            print('Timezeone issue')\n",
    "    startcalling()\n",
    "\n",
    "startcalling()\n",
    "cdata = [[str(datetime.now()),\"Logout\", \"\",  '', '',\"Footprint\"]]\n",
    "gs.append_sheet('16iM4AVWs9LvRVtFdrZuUaphXH-QKH79kCIHWDcgM8Ws', 'call_log', cdata)"
   ]
  },
  {
   "cell_type": "code",
   "execution_count": null,
   "metadata": {},
   "outputs": [],
   "source": [
    "from tkinter import *\n",
    "import webbrowser\n",
    "window = Tk()\n",
    "window.title(\"Faronics\")\n",
    "window.geometry()\n",
    "def clicked():\n",
    "    lbl.configure(text=\"Button was clicked !!\")\n",
    "def callback(url):\n",
    "    webbrowser.open_new(url)\n",
    "    \n",
    "Label(window, text=\"Account Name\",font=(\"Arial\", 10),anchor='sw').grid(column=1, row=1)#.pack(fill='both')\n",
    "Label(window, text=oppsdf['Account Name'][0],font=(\"Arial Bold\", 10),anchor='w').grid(column=4, row=1)#.pack(fill='both')\n",
    "\n",
    "Label(window, text=\"SageCRMid\",font=(\"Arial\", 10),anchor='w').grid(column=1, row=2)\n",
    "Label(window, text=oppsdf['SageCRMid'][0],font=(\"Arial Bold\", 10),anchor='w').grid(column=4, row=2)\n",
    "\n",
    "Label(window, text=\"Opportunity\",font=(\"Arial\", 10),anchor='w').grid(column=1, row=3)\n",
    "Label(window, text=oppsdf['Opportunity'][0],font=(\"Arial Bold\", 10),anchor='w').grid(column=4, row=3)\n",
    "\n",
    "link1 = Label(window, text=\"Google here\", fg=\"blue\", cursor=\"hand2\")#.grid(column=1, row=5)\n",
    "link1.grid(column=1, row=5)\n",
    "link1.bind(\"<Button-1>\", lambda e: callback(\"https://faronicsna.my.salesforce.com/a070W00001Dg5Nf\"))\n",
    "\n",
    "lbl = Label(window, text=\"\",font=(\"Arial\", 10))\n",
    "\n",
    "btn1 = Button(window, text=\"Prev.\",anchor='w',command=clicked).grid(column=3, row=8)\n",
    "btn2 = Button(window, text=\"Next.\",anchor='w',command=clicked).grid(column=4, row=8)\n",
    "# Spinbox(window, from_=0, to=100, width=5).grid(column=4,row=5)\n",
    "window.mainloop()"
   ]
  },
  {
   "cell_type": "code",
   "execution_count": null,
   "metadata": {},
   "outputs": [],
   "source": [
    "from tkinter import messagebox\n",
    "messagebox.showinfo('Message title','Message content')"
   ]
  },
  {
   "cell_type": "code",
   "execution_count": null,
   "metadata": {},
   "outputs": [],
   "source": []
  }
 ],
 "metadata": {
  "kernelspec": {
   "display_name": "Python 3",
   "language": "python",
   "name": "python3"
  },
  "language_info": {
   "codemirror_mode": {
    "name": "ipython",
    "version": 3
   },
   "file_extension": ".py",
   "mimetype": "text/x-python",
   "name": "python",
   "nbconvert_exporter": "python",
   "pygments_lexer": "ipython3",
   "version": "3.7.3"
  }
 },
 "nbformat": 4,
 "nbformat_minor": 2
}
